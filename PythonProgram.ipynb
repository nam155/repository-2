name = input("Enter a name");
word = input("Enter a String to add");

print(name + word);
